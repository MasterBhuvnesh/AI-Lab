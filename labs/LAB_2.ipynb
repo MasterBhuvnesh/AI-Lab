{
 "cells": [
  {
   "cell_type": "code",
   "execution_count": 1,
   "id": "c845e8d3",
   "metadata": {},
   "outputs": [],
   "source": [
    "def dfs_tree(tree: dict, start_node: int, end_node: int):\n",
    "    visited: set = set()\n",
    "    traversal_order: list = []\n",
    "    queue = [(start_node, [start_node])]\n",
    "\n",
    "    while queue:\n",
    "        node, path = queue.pop()\n",
    "        if node not in visited:\n",
    "            visited.add(node)\n",
    "            traversal_order.append(node)\n",
    "            print(f\"node {node} visited\")\n",
    "        if node == end_node:\n",
    "            return visited, traversal_order\n",
    "        for child in tree[node]:\n",
    "            if child not in visited:\n",
    "                queue.append((child, path + [child]))\n",
    "    return visited, traversal_order\n"
   ]
  },
  {
   "cell_type": "code",
   "execution_count": 2,
   "id": "c900c14b",
   "metadata": {},
   "outputs": [],
   "source": [
    "def dls_tree(tree: dict, start_node: int, end_node: int, max_depth: int = 0):\n",
    "    visited: set = set()\n",
    "    traversal_order: list = []\n",
    "    queue = [(start_node, [start_node], 0)]\n",
    "\n",
    "    while queue:\n",
    "        node, path, current_depth = queue.pop()\n",
    "        if current_depth > max_depth:\n",
    "            continue\n",
    "        if node not in visited:\n",
    "            visited.add(node)\n",
    "            traversal_order.append(node)\n",
    "            print(f\"node {node} visited\")\n",
    "        if node == end_node:\n",
    "            return visited, traversal_order\n",
    "        queue.extend(\n",
    "            [\n",
    "                (child, path + [child], current_depth + 1)\n",
    "                for child in tree[node]\n",
    "                if child not in visited\n",
    "            ]\n",
    "        )\n",
    "\n",
    "    return visited, traversal_order\n"
   ]
  },
  {
   "cell_type": "code",
   "execution_count": 3,
   "id": "ab7b83e2",
   "metadata": {},
   "outputs": [],
   "source": [
    "def main():\n",
    "    tree: dict = {\n",
    "        1: [2, 3],\n",
    "        2: [4, 5],\n",
    "        3: [6, 7],\n",
    "        4: [],\n",
    "        5: [],\n",
    "        6: [],\n",
    "        7: [],\n",
    "    }\n",
    "\n",
    "    print(\"DFS Traversal:\")\n",
    "    start_node: int = 1\n",
    "    end_node: int = 6\n",
    "    visited, traversal_order = dfs_tree(tree, start_node, end_node)\n",
    "    print(\"DFS Traversal Order:\", traversal_order)\n",
    "    print(\"Visited Order:\", traversal_order)\n",
    "\n",
    "    print(\"\\nDLS Traversal:\")\n",
    "    start_node: int = 1\n",
    "    end_node: int = 5\n",
    "    max_depth: int = int(input(\"Enter the Maximum Depth for the tree: \"))\n",
    "    visited, traversal_order = dls_tree(tree, start_node, end_node, max_depth)\n",
    "    print(\"DLS Traversal Order:\", traversal_order)\n",
    "    print(\"Visited Order:\", visited)\n"
   ]
  },
  {
   "cell_type": "code",
   "execution_count": 4,
   "id": "e39254a7",
   "metadata": {},
   "outputs": [
    {
     "name": "stdout",
     "output_type": "stream",
     "text": [
      "DFS Traversal:\n",
      "node 1 visited\n",
      "node 3 visited\n",
      "node 7 visited\n",
      "node 6 visited\n",
      "DFS Traversal Order: [1, 3, 7, 6]\n",
      "Visited Order: [1, 3, 7, 6]\n",
      "\n",
      "DLS Traversal:\n",
      "node 1 visited\n",
      "node 3 visited\n",
      "node 7 visited\n",
      "node 6 visited\n",
      "node 2 visited\n",
      "node 5 visited\n",
      "DLS Traversal Order: [1, 3, 7, 6, 2, 5]\n",
      "Visited Order: {1, 2, 3, 5, 6, 7}\n"
     ]
    }
   ],
   "source": [
    "if __name__ == \"__main__\":\n",
    "    main()"
   ]
  }
 ],
 "metadata": {
  "kernelspec": {
   "display_name": "base",
   "language": "python",
   "name": "python3"
  },
  "language_info": {
   "codemirror_mode": {
    "name": "ipython",
    "version": 3
   },
   "file_extension": ".py",
   "mimetype": "text/x-python",
   "name": "python",
   "nbconvert_exporter": "python",
   "pygments_lexer": "ipython3",
   "version": "3.12.7"
  }
 },
 "nbformat": 4,
 "nbformat_minor": 5
}
