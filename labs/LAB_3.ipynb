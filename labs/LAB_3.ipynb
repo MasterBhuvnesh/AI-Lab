{
 "cells": [
  {
   "cell_type": "code",
   "execution_count": 1,
   "id": "174a5035",
   "metadata": {},
   "outputs": [],
   "source": [
    "import copy\n",
    "\n",
    "def uniform_cost_search(graph, start, goal):\n",
    "    visited = set()\n",
    "    openlist = [(0, [start])]\n",
    "\n",
    "    while openlist:\n",
    "        curr_cost, curr_path = openlist.pop(0)\n",
    "        curr_node = curr_path[-1]\n",
    "\n",
    "        if curr_node == goal:\n",
    "            return curr_path, curr_cost, list(visited)\n",
    "\n",
    "        if curr_node in visited:\n",
    "            continue\n",
    "\n",
    "        visited.add(curr_node)\n",
    "        neighbors = graph[curr_node]\n",
    "        for edge_cost, neighbor in neighbors:\n",
    "            if neighbor not in visited:\n",
    "                new_path = curr_path + [neighbor]\n",
    "                new_cost = curr_cost + edge_cost\n",
    "                openlist.append((new_cost, new_path))\n",
    "                openlist.sort()\n",
    "\n",
    "    return None, None, list(visited)\n"
   ]
  },
  {
   "cell_type": "code",
   "execution_count": 2,
   "id": "5f52d2c9",
   "metadata": {},
   "outputs": [
    {
     "name": "stdout",
     "output_type": "stream",
     "text": [
      "Path: ['S', 'A', 'C', 'G']\n",
      "Cost: 4\n",
      "Visited nodes: ['A', 'S', 'C', 'D', 'B']\n"
     ]
    }
   ],
   "source": [
    "\n",
    "graph = {\n",
    "    \"S\": [(1, \"A\"), (12, \"G\")],\n",
    "    \"A\": [(3, \"B\"), (1, \"C\")],\n",
    "    \"B\": [(3, \"D\")],\n",
    "    \"C\": [(1, \"D\"), (2, \"G\")],\n",
    "    \"D\": [(3, \"G\")],\n",
    "    \"G\": [],\n",
    "}\n",
    "\n",
    "path, cost, visited = uniform_cost_search(graph, \"S\", \"G\")\n",
    "print(f\"Path: {path}\")\n",
    "print(f\"Cost: {cost}\")\n",
    "print(f\"Visited nodes: {visited}\")"
   ]
  }
 ],
 "metadata": {
  "kernelspec": {
   "display_name": "base",
   "language": "python",
   "name": "python3"
  },
  "language_info": {
   "codemirror_mode": {
    "name": "ipython",
    "version": 3
   },
   "file_extension": ".py",
   "mimetype": "text/x-python",
   "name": "python",
   "nbconvert_exporter": "python",
   "pygments_lexer": "ipython3",
   "version": "3.12.7"
  }
 },
 "nbformat": 4,
 "nbformat_minor": 5
}
