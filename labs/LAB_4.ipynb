{
 "cells": [
  {
   "cell_type": "code",
   "execution_count": 1,
   "id": "e51b0d35",
   "metadata": {},
   "outputs": [
    {
     "name": "stdout",
     "output_type": "stream",
     "text": [
      "+ cost till previous node= 0\n",
      "- consolidated cost of B is 2\n",
      "+ cost till previous node= 0\n",
      "- consolidated cost of E is 3\n",
      "+ cost till previous node= 2\n",
      "- consolidated cost of C is 3\n",
      "+ cost till previous node= 2\n",
      "- consolidated cost of G is 11\n",
      "+ cost till previous node= 3\n",
      "- consolidated cost of D is 9\n",
      "parent of G is B\n",
      " > parent of G reinitialized\n",
      "parent of G is D\n",
      "* * * Path found: ['A', 'E', 'D', 'G'] * * *\n"
     ]
    },
    {
     "data": {
      "text/plain": [
       "['A', 'E', 'D', 'G']"
      ]
     },
     "execution_count": 1,
     "metadata": {},
     "output_type": "execute_result"
    }
   ],
   "source": [
    "def heuristic(n):\n",
    "    H_dist = {\n",
    "        \"A\": 11,\n",
    "        \"B\": 6,\n",
    "        \"C\": 99,\n",
    "        \"D\": 1,\n",
    "        \"E\": 7,\n",
    "        \"G\": 0,\n",
    "    }\n",
    "    return H_dist[n]\n",
    "\n",
    "def a_star_search(start, goal):\n",
    "    open_set = set([start])\n",
    "    closed_set = set()\n",
    "    g = {start: 0}\n",
    "    parents = {start: start}\n",
    "\n",
    "    while len(open_set) > 0:\n",
    "        n = None\n",
    "        for v in open_set:\n",
    "            if n is None or g[v] + heuristic(v) < g[n] + heuristic(n):\n",
    "                n = v\n",
    "\n",
    "        if n == goal or graph2[n] is None:\n",
    "            pass\n",
    "        else:\n",
    "            for m, weight in get_neighbors(n):\n",
    "                if m not in open_set and m not in closed_set:\n",
    "                    open_set.add(m)\n",
    "                    parents[m] = n\n",
    "                    g[m] = g[n] + weight\n",
    "                    print(\"+ cost till previous node=\", g[n])\n",
    "                    print(\"- consolidated cost of\", m, \"is\", g[m])\n",
    "                else:\n",
    "                    if g[m] > g[n] + weight:\n",
    "                        g[m] = g[n] + weight\n",
    "                        print(\"parent of\", m, \"is\", parents[m])\n",
    "                        parents[m] = n\n",
    "                        print(\" > parent of\", m, \"reinitialized\")\n",
    "                        print(\"parent of\", m, \"is\", parents[m])\n",
    "                        if m in closed_set:\n",
    "                            closed_set.remove(m)\n",
    "                            open_set.add(m)\n",
    "\n",
    "        if n is None:\n",
    "            print(\"Path does not exist!\")\n",
    "            return None\n",
    "\n",
    "        if n == goal:\n",
    "            path = []\n",
    "            while parents[n] != n:\n",
    "                path.append(n)\n",
    "                n = parents[n]\n",
    "            path.append(start)\n",
    "            path.reverse()\n",
    "            print(\"* * * Path found: {} * * *\".format(path))\n",
    "            return path\n",
    "\n",
    "        open_set.remove(n)\n",
    "        closed_set.add(n)\n",
    "\n",
    "    print(\"Path does not exist!\")\n",
    "    return None\n",
    "\n",
    "def get_neighbors(v):\n",
    "    if v in graph2:\n",
    "        return graph2[v]\n",
    "    else:\n",
    "        return None\n",
    "\n",
    "graph2 = {\n",
    "    \"A\": [(\"B\", 2), (\"E\", 3)],\n",
    "    \"B\": [(\"C\", 1), (\"G\", 9)],\n",
    "    \"C\": None,\n",
    "    \"D\": [(\"G\", 1)],\n",
    "    \"E\": [(\"D\", 6)],\n",
    "}\n",
    "\n",
    "a_star_search(\"A\", \"G\")"
   ]
  }
 ],
 "metadata": {
  "kernelspec": {
   "display_name": "base",
   "language": "python",
   "name": "python3"
  },
  "language_info": {
   "codemirror_mode": {
    "name": "ipython",
    "version": 3
   },
   "file_extension": ".py",
   "mimetype": "text/x-python",
   "name": "python",
   "nbconvert_exporter": "python",
   "pygments_lexer": "ipython3",
   "version": "3.12.7"
  }
 },
 "nbformat": 4,
 "nbformat_minor": 5
}
