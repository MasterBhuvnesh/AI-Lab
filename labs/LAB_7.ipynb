{
 "cells": [
  {
   "cell_type": "code",
   "execution_count": 1,
   "id": "fdc7f864",
   "metadata": {},
   "outputs": [
    {
     "name": "stdout",
     "output_type": "stream",
     "text": [
      "The assigned colour for WA is: Red\n",
      "The assigned colour for NT is: Red\n",
      "The assigned colour for NT is: Green\n",
      "The assigned colour for Q is: Red\n",
      "The assigned colour for SA is: Red\n",
      "The assigned colour for SA is: Green\n",
      "The assigned colour for SA is: Blue\n",
      "The assigned colour for NSW is: Red\n",
      "The assigned colour for NSW is: Green\n",
      "The assigned colour for V is: Red\n",
      "The assigned colour for T is: Red\n"
     ]
    }
   ],
   "source": [
    "assigned = {\n",
    "    \"WA\": None,\n",
    "    \"NT\": None,\n",
    "    \"Q\": None,\n",
    "    \"SA\": None,\n",
    "    \"NSW\": None,\n",
    "    \"V\": None,\n",
    "    \"T\": None,\n",
    "}\n",
    "\n",
    "neighbors = {\n",
    "    \"WA\": [\"NT\", \"SA\"],\n",
    "    \"NT\": [\"WA\", \"Q\", \"SA\"],\n",
    "    \"Q\": [\"NT\", \"SA\", \"NSW\"],\n",
    "    \"SA\": [\"WA\", \"NT\", \"Q\", \"NSW\", \"V\"],\n",
    "    \"NSW\": [\"Q\", \"SA\", \"V\"],\n",
    "    \"V\": [\"SA\", \"NSW\"],\n",
    "    \"T\": [],\n",
    "}\n",
    "\n",
    "def assignCol():\n",
    "    for key in assigned.keys():\n",
    "        i, flag = 0, 0\n",
    "        current = key\n",
    "\n",
    "        if assigned[key] is None:\n",
    "            while i <= (len(domain) - 1):\n",
    "                assigned[current] = domain[i]\n",
    "                print(\"The assigned colour for\", current, \"is:\", assigned[current])\n",
    "\n",
    "                flag = checkConst(current)\n",
    "\n",
    "                if flag == 1:\n",
    "                    i = i + 1\n",
    "                else:\n",
    "                    break\n",
    "\n",
    "def checkConst(current):\n",
    "    for neighbor in neighbors[current]:\n",
    "        if assigned[neighbor] == assigned[current]:\n",
    "            return 1\n",
    "    return 0\n",
    "\n",
    "domain = [\"Red\", \"Green\", \"Blue\"]\n",
    "\n",
    "assignCol()"
   ]
  }
 ],
 "metadata": {
  "kernelspec": {
   "display_name": "base",
   "language": "python",
   "name": "python3"
  },
  "language_info": {
   "codemirror_mode": {
    "name": "ipython",
    "version": 3
   },
   "file_extension": ".py",
   "mimetype": "text/x-python",
   "name": "python",
   "nbconvert_exporter": "python",
   "pygments_lexer": "ipython3",
   "version": "3.12.7"
  }
 },
 "nbformat": 4,
 "nbformat_minor": 5
}
