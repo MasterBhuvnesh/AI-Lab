{
 "cells": [
  {
   "cell_type": "code",
   "execution_count": 1,
   "id": "fa53132c",
   "metadata": {},
   "outputs": [
    {
     "name": "stdout",
     "output_type": "stream",
     "text": [
      "Fill Jug 1: (4, 0)\n",
      "Pour Jug 1 -> Jug 2: (1, 3)\n",
      "Empty Jug 2: (1, 0)\n",
      "Pour Jug 1 -> Jug 2: (0, 1)\n",
      "Fill Jug 1: (4, 1)\n",
      "Pour Jug 1 -> Jug 2: (2, 3)\n",
      "Target reached: (2, 3)\n"
     ]
    }
   ],
   "source": [
    "def func(jug1_capacity: int, jug2_capacity: int, target: int) -> int:\n",
    "    jug1 = 0\n",
    "    jug2 = 0\n",
    "    steps = []\n",
    "\n",
    "    while True:\n",
    "        if jug1 == 0:\n",
    "            jug1 = jug1_capacity\n",
    "            steps.append(f\"Fill Jug 1: ({jug1}, {jug2})\")\n",
    "        elif jug2 < jug2_capacity:\n",
    "            transfer = min(jug1, jug2_capacity - jug2)\n",
    "            jug1 -= transfer\n",
    "            jug2 += transfer\n",
    "            steps.append(f\"Pour Jug 1 -> Jug 2: ({jug1}, {jug2})\")\n",
    "        elif jug2 == jug2_capacity:\n",
    "            jug2 = 0\n",
    "            steps.append(f\"Empty Jug 2: ({jug1}, {jug2})\")\n",
    "        if jug1 == target:\n",
    "            steps.append(f\"Target reached: ({jug1}, {jug2})\")\n",
    "            break\n",
    "\n",
    "    return steps\n",
    "\n",
    "jug1_capacity = 4\n",
    "jug2_capacity = 3\n",
    "target = 2\n",
    "\n",
    "result = func(jug1_capacity, jug2_capacity, target)\n",
    "\n",
    "for step in result:\n",
    "    print(step)\n"
   ]
  }
 ],
 "metadata": {
  "kernelspec": {
   "display_name": "base",
   "language": "python",
   "name": "python3"
  },
  "language_info": {
   "name": "python",
   "version": "3.12.7"
  }
 },
 "nbformat": 4,
 "nbformat_minor": 5
}
