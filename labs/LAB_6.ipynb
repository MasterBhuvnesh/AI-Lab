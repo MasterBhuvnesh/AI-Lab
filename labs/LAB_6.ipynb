{
 "cells": [
  {
   "cell_type": "code",
   "execution_count": 1,
   "id": "6ec36176",
   "metadata": {},
   "outputs": [
    {
     "name": "stdout",
     "output_type": "stream",
     "text": [
      "The optimal value is 2\n"
     ]
    }
   ],
   "source": [
    "import math\n",
    "\n",
    "def minimax(current_depth, node_index, is_max_turn, scores, target_depth):\n",
    "    if current_depth == target_depth:\n",
    "        return scores[node_index]\n",
    "\n",
    "    if is_max_turn:\n",
    "        left_value = minimax(current_depth + 1, node_index * 2, False, scores, target_depth)\n",
    "        right_value = minimax(current_depth + 1, node_index * 2 + 1, False, scores, target_depth)\n",
    "        return max(left_value, right_value)\n",
    "    else:\n",
    "        left_value = minimax(current_depth + 1, node_index * 2, True, scores, target_depth)\n",
    "        right_value = minimax(current_depth + 1, node_index * 2 + 1, True, scores, target_depth)\n",
    "        return min(left_value, right_value)\n",
    "\n",
    "\n",
    "def main():\n",
    "    scores = [10, 2, 12, 16, 2, 7, -5, -80]\n",
    "    tree_depth = int(math.log(len(scores), 2))\n",
    "    optimal_value = minimax(0, 0, False, scores, tree_depth)\n",
    "    print(f\"The optimal value is {optimal_value}\")\n",
    "\n",
    "\n",
    "if __name__ == \"__main__\":\n",
    "    main()"
   ]
  }
 ],
 "metadata": {
  "kernelspec": {
   "display_name": "base",
   "language": "python",
   "name": "python3"
  },
  "language_info": {
   "codemirror_mode": {
    "name": "ipython",
    "version": 3
   },
   "file_extension": ".py",
   "mimetype": "text/x-python",
   "name": "python",
   "nbconvert_exporter": "python",
   "pygments_lexer": "ipython3",
   "version": "3.12.7"
  }
 },
 "nbformat": 4,
 "nbformat_minor": 5
}
